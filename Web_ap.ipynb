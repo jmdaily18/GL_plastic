{
 "cells": [
  {
   "cell_type": "code",
   "execution_count": 16,
   "metadata": {},
   "outputs": [
    {
     "name": "stdout",
     "output_type": "stream",
     "text": [
      "Collecting voila\n",
      "  Using cached https://files.pythonhosted.org/packages/5d/35/cf7d765edd2b48838ac69ff0435cec594bdd8a44329fb21a86a6d7e4c584/voila-0.2.10-py3-none-any.whl\n",
      "Requirement already satisfied: nbconvert<7,>=6.0.0 in c:\\users\\jmdai\\miniconda2\\envs\\py36\\lib\\site-packages (from voila) (6.0.7)\n",
      "Requirement already satisfied: nbclient<0.6,>=0.4.0 in c:\\users\\jmdai\\miniconda2\\envs\\py36\\lib\\site-packages (from voila) (0.5.3)\n",
      "Collecting jupyter-server<2.0.0,>=0.3.0 (from voila)\n",
      "  Using cached https://files.pythonhosted.org/packages/ae/af/9181eb8e3759d04f591e4640c53fa276a5b630ad0c85e3b49fbd7c70579d/jupyter_server-1.6.4-py3-none-any.whl\n",
      "Requirement already satisfied: jupyter-client<7,>=6.1.3 in c:\\users\\jmdai\\miniconda2\\envs\\py36\\lib\\site-packages (from voila) (6.2.0)\n",
      "Requirement already satisfied: traitlets>=4.2 in c:\\users\\jmdai\\miniconda2\\envs\\py36\\lib\\site-packages (from nbconvert<7,>=6.0.0->voila) (4.3.2)\n",
      "Requirement already satisfied: jupyterlab-pygments in c:\\users\\jmdai\\miniconda2\\envs\\py36\\lib\\site-packages (from nbconvert<7,>=6.0.0->voila) (0.1.2)\n",
      "Requirement already satisfied: mistune<2,>=0.8.1 in c:\\users\\jmdai\\miniconda2\\envs\\py36\\lib\\site-packages (from nbconvert<7,>=6.0.0->voila) (0.8.4)\n",
      "Requirement already satisfied: jinja2>=2.4 in c:\\users\\jmdai\\miniconda2\\envs\\py36\\lib\\site-packages (from nbconvert<7,>=6.0.0->voila) (2.10.1)\n",
      "Requirement already satisfied: defusedxml in c:\\users\\jmdai\\miniconda2\\envs\\py36\\lib\\site-packages (from nbconvert<7,>=6.0.0->voila) (0.6.0)\n",
      "Requirement already satisfied: pandocfilters>=1.4.1 in c:\\users\\jmdai\\miniconda2\\envs\\py36\\lib\\site-packages (from nbconvert<7,>=6.0.0->voila) (1.4.2)\n",
      "Requirement already satisfied: bleach in c:\\users\\jmdai\\miniconda2\\envs\\py36\\lib\\site-packages (from nbconvert<7,>=6.0.0->voila) (3.1.0)\n",
      "Requirement already satisfied: pygments>=2.4.1 in c:\\users\\jmdai\\miniconda2\\envs\\py36\\lib\\site-packages (from nbconvert<7,>=6.0.0->voila) (2.4.2)\n",
      "Requirement already satisfied: entrypoints>=0.2.2 in c:\\users\\jmdai\\miniconda2\\envs\\py36\\lib\\site-packages (from nbconvert<7,>=6.0.0->voila) (0.3)\n",
      "Requirement already satisfied: nbformat>=4.4 in c:\\users\\jmdai\\miniconda2\\envs\\py36\\lib\\site-packages (from nbconvert<7,>=6.0.0->voila) (4.4.0)\n",
      "Requirement already satisfied: jupyter-core in c:\\users\\jmdai\\miniconda2\\envs\\py36\\lib\\site-packages (from nbconvert<7,>=6.0.0->voila) (4.5.0)\n",
      "Requirement already satisfied: testpath in c:\\users\\jmdai\\miniconda2\\envs\\py36\\lib\\site-packages (from nbconvert<7,>=6.0.0->voila) (0.4.2)\n",
      "Requirement already satisfied: nest-asyncio in c:\\users\\jmdai\\miniconda2\\envs\\py36\\lib\\site-packages (from nbclient<0.6,>=0.4.0->voila) (1.5.1)\n",
      "Requirement already satisfied: async-generator in c:\\users\\jmdai\\miniconda2\\envs\\py36\\lib\\site-packages (from nbclient<0.6,>=0.4.0->voila) (1.10)\n",
      "Requirement already satisfied: prometheus-client in c:\\users\\jmdai\\miniconda2\\envs\\py36\\lib\\site-packages (from jupyter-server<2.0.0,>=0.3.0->voila) (0.7.1)\n",
      "Requirement already satisfied: ipython-genutils in c:\\users\\jmdai\\miniconda2\\envs\\py36\\lib\\site-packages (from jupyter-server<2.0.0,>=0.3.0->voila) (0.2.0)\n",
      "Requirement already satisfied: Send2Trash in c:\\users\\jmdai\\miniconda2\\envs\\py36\\lib\\site-packages (from jupyter-server<2.0.0,>=0.3.0->voila) (1.5.0)\n",
      "Requirement already satisfied: argon2-cffi in c:\\users\\jmdai\\miniconda2\\envs\\py36\\lib\\site-packages (from jupyter-server<2.0.0,>=0.3.0->voila) (20.1.0)\n",
      "Collecting terminado>=0.8.3 (from jupyter-server<2.0.0,>=0.3.0->voila)\n",
      "  Using cached https://files.pythonhosted.org/packages/47/ad/f7bc3e40570212ed9ccc9ac72d17315574d82fc100eb74d660c31817ddd2/terminado-0.9.4-py3-none-any.whl\n",
      "Requirement already satisfied: pywin32>=1.0; sys_platform == \"win32\" in c:\\users\\jmdai\\miniconda2\\envs\\py36\\lib\\site-packages (from jupyter-server<2.0.0,>=0.3.0->voila) (223)\n",
      "Requirement already satisfied: anyio<3,>=2.0.2 in c:\\users\\jmdai\\miniconda2\\envs\\py36\\lib\\site-packages (from jupyter-server<2.0.0,>=0.3.0->voila) (2.2.0)\n",
      "Requirement already satisfied: pyzmq>=17 in c:\\users\\jmdai\\miniconda2\\envs\\py36\\lib\\site-packages (from jupyter-server<2.0.0,>=0.3.0->voila) (18.0.0)\n",
      "Requirement already satisfied: tornado>=6.1.0 in c:\\users\\jmdai\\miniconda2\\envs\\py36\\lib\\site-packages (from jupyter-server<2.0.0,>=0.3.0->voila) (6.1)\n",
      "Requirement already satisfied: jupyter-packaging~=0.9 in c:\\users\\jmdai\\miniconda2\\envs\\py36\\lib\\site-packages (from jupyter-server<2.0.0,>=0.3.0->voila) (0.9.2)\n",
      "Requirement already satisfied: python-dateutil>=2.1 in c:\\users\\jmdai\\miniconda2\\envs\\py36\\lib\\site-packages (from jupyter-client<7,>=6.1.3->voila) (2.8.0)\n",
      "Requirement already satisfied: six in c:\\users\\jmdai\\miniconda2\\envs\\py36\\lib\\site-packages (from traitlets>=4.2->nbconvert<7,>=6.0.0->voila) (1.12.0)\n",
      "Requirement already satisfied: decorator in c:\\users\\jmdai\\miniconda2\\envs\\py36\\lib\\site-packages (from traitlets>=4.2->nbconvert<7,>=6.0.0->voila) (4.4.0)\n",
      "Requirement already satisfied: MarkupSafe>=0.23 in c:\\users\\jmdai\\miniconda2\\envs\\py36\\lib\\site-packages (from jinja2>=2.4->nbconvert<7,>=6.0.0->voila) (1.1.1)\n",
      "Requirement already satisfied: webencodings in c:\\users\\jmdai\\miniconda2\\envs\\py36\\lib\\site-packages (from bleach->nbconvert<7,>=6.0.0->voila) (0.5.1)\n",
      "Requirement already satisfied: jsonschema!=2.5.0,>=2.4 in c:\\users\\jmdai\\miniconda2\\envs\\py36\\lib\\site-packages (from nbformat>=4.4->nbconvert<7,>=6.0.0->voila) (3.0.1)\n",
      "Requirement already satisfied: cffi>=1.0.0 in c:\\users\\jmdai\\miniconda2\\envs\\py36\\lib\\site-packages (from argon2-cffi->jupyter-server<2.0.0,>=0.3.0->voila) (1.12.3)\n",
      "Requirement already satisfied: pywinpty>=0.5; os_name == \"nt\" in c:\\users\\jmdai\\miniconda2\\envs\\py36\\lib\\site-packages (from terminado>=0.8.3->jupyter-server<2.0.0,>=0.3.0->voila) (0.5.5)\n",
      "Requirement already satisfied: sniffio>=1.1 in c:\\users\\jmdai\\miniconda2\\envs\\py36\\lib\\site-packages (from anyio<3,>=2.0.2->jupyter-server<2.0.0,>=0.3.0->voila) (1.2.0)\n",
      "Requirement already satisfied: typing-extensions; python_version < \"3.8\" in c:\\users\\jmdai\\miniconda2\\envs\\py36\\lib\\site-packages (from anyio<3,>=2.0.2->jupyter-server<2.0.0,>=0.3.0->voila) (3.10.0.0)\n",
      "Requirement already satisfied: idna>=2.8 in c:\\users\\jmdai\\miniconda2\\envs\\py36\\lib\\site-packages (from anyio<3,>=2.0.2->jupyter-server<2.0.0,>=0.3.0->voila) (2.8)\n",
      "Requirement already satisfied: dataclasses; python_version < \"3.7\" in c:\\users\\jmdai\\miniconda2\\envs\\py36\\lib\\site-packages (from anyio<3,>=2.0.2->jupyter-server<2.0.0,>=0.3.0->voila) (0.8)\n",
      "Requirement already satisfied: tomlkit in c:\\users\\jmdai\\miniconda2\\envs\\py36\\lib\\site-packages (from jupyter-packaging~=0.9->jupyter-server<2.0.0,>=0.3.0->voila) (0.7.0)\n",
      "Requirement already satisfied: packaging in c:\\users\\jmdai\\miniconda2\\envs\\py36\\lib\\site-packages (from jupyter-packaging~=0.9->jupyter-server<2.0.0,>=0.3.0->voila) (19.0)\n",
      "Requirement already satisfied: setuptools>=46.4.0 in c:\\users\\jmdai\\miniconda2\\envs\\py36\\lib\\site-packages (from jupyter-packaging~=0.9->jupyter-server<2.0.0,>=0.3.0->voila) (56.0.0)\n",
      "Requirement already satisfied: deprecation in c:\\users\\jmdai\\miniconda2\\envs\\py36\\lib\\site-packages (from jupyter-packaging~=0.9->jupyter-server<2.0.0,>=0.3.0->voila) (2.1.0)\n",
      "Requirement already satisfied: wheel in c:\\users\\jmdai\\miniconda2\\envs\\py36\\lib\\site-packages (from jupyter-packaging~=0.9->jupyter-server<2.0.0,>=0.3.0->voila) (0.33.4)\n",
      "Requirement already satisfied: attrs>=17.4.0 in c:\\users\\jmdai\\miniconda2\\envs\\py36\\lib\\site-packages (from jsonschema!=2.5.0,>=2.4->nbformat>=4.4->nbconvert<7,>=6.0.0->voila) (19.1.0)\n",
      "Requirement already satisfied: pyrsistent>=0.14.0 in c:\\users\\jmdai\\miniconda2\\envs\\py36\\lib\\site-packages (from jsonschema!=2.5.0,>=2.4->nbformat>=4.4->nbconvert<7,>=6.0.0->voila) (0.14.11)\n",
      "Requirement already satisfied: pycparser in c:\\users\\jmdai\\miniconda2\\envs\\py36\\lib\\site-packages (from cffi>=1.0.0->argon2-cffi->jupyter-server<2.0.0,>=0.3.0->voila) (2.19)\n",
      "Requirement already satisfied: contextvars>=2.1; python_version < \"3.7\" in c:\\users\\jmdai\\miniconda2\\envs\\py36\\lib\\site-packages (from sniffio>=1.1->anyio<3,>=2.0.2->jupyter-server<2.0.0,>=0.3.0->voila) (2.4)\n",
      "Requirement already satisfied: pyparsing>=2.0.2 in c:\\users\\jmdai\\miniconda2\\envs\\py36\\lib\\site-packages (from packaging->jupyter-packaging~=0.9->jupyter-server<2.0.0,>=0.3.0->voila) (2.4.0)\n",
      "Requirement already satisfied: immutables>=0.9 in c:\\users\\jmdai\\miniconda2\\envs\\py36\\lib\\site-packages (from contextvars>=2.1; python_version < \"3.7\"->sniffio>=1.1->anyio<3,>=2.0.2->jupyter-server<2.0.0,>=0.3.0->voila) (0.15)\n",
      "Installing collected packages: terminado, jupyter-server, voila\n",
      "  Found existing installation: terminado 0.8.2\n"
     ]
    },
    {
     "name": "stderr",
     "output_type": "stream",
     "text": [
      "ERROR: Cannot uninstall 'terminado'. It is a distutils installed project and thus we cannot accurately determine which files belong to it which would lead to only a partial uninstall.\n"
     ]
    }
   ],
   "source": [
    "#import sys\n",
    "#!{sys.executable} -m pip install voila"
   ]
  },
  {
   "cell_type": "code",
   "execution_count": null,
   "metadata": {},
   "outputs": [],
   "source": [
    "#conda install -c conda-forge ipywidgets ipyvolume bqplot scipy"
   ]
  },
  {
   "cell_type": "code",
   "execution_count": 1,
   "metadata": {},
   "outputs": [
    {
     "data": {
      "application/vnd.jupyter.widget-view+json": {
       "model_id": "f9063e57406e49c9951120e0c8fc84a7",
       "version_major": 2,
       "version_minor": 0
      },
      "text/plain": [
       "VBox(children=(FloatSlider(value=4.0, description='$x$'), FloatText(value=0.0, description='$x^2$', disabled=T…"
      ]
     },
     "metadata": {},
     "output_type": "display_data"
    }
   ],
   "source": [
    "import ipywidgets as widgets\n",
    "\n",
    "slider = widgets.FloatSlider(description='$x$', value=4)\n",
    "text = widgets.FloatText(disabled=True, description='$x^2$')\n",
    "\n",
    "def compute(*ignore):\n",
    "    text.value = str(slider.value ** 2)\n",
    "\n",
    "slider.observe(compute, 'value')\n",
    "\n",
    "widgets.VBox([slider, text])"
   ]
  },
  {
   "cell_type": "code",
   "execution_count": 6,
   "metadata": {},
   "outputs": [
    {
     "data": {
      "application/vnd.jupyter.widget-view+json": {
       "model_id": "0d1bb472263d4bdc8340916655b82bee",
       "version_major": 2,
       "version_minor": 0
      },
      "text/plain": [
       "VBox(children=(Figure(axes=[Axis(scale=LinearScale(), side='bottom'), Axis(orientation='vertical', scale=Linea…"
      ]
     },
     "metadata": {},
     "output_type": "display_data"
    }
   ],
   "source": [
    "import numpy as np\n",
    "#import matplotlib.pyplot as plt\n",
    "import cartopy.crs as ccrs\n",
    "import cartopy.feature as cfeature\n",
    "import ipywidgets as widgets\n",
    "from IPython.display import HTML\n",
    "import warnings\n",
    "from bqplot import pyplot as plt\n",
    "\n",
    "\n",
    "warnings.filterwarnings('ignore')\n",
    "#plt.ioff()\n",
    "\n",
    "glc=np.loadtxt(\"https://raw.githubusercontent.com/jmdaily18/GL_plastic/f007f442b135239aa2a5dd15642aef782b843ace/GLcoast.dat?token=AT3CU5V3YTMQPDPC3R7SJX3ASA24Y\")\n",
    "\n",
    "plt.figure(1, title='Great Lakes')\n",
    "lon=glc[:,0]\n",
    "lat=glc[:,1]\n",
    "extent = [np.amin(lon)-0.25, np.amax(lon)+0.25, np.amin(lat)-0.25, np.amax(lat)+0.25]\n",
    "central_lon = np.mean(extent[:2])\n",
    "central_lat = np.mean(extent[2:])\n",
    "#ax = plt.axes(projection=ccrs.Mercator()) \n",
    "#ax.plot(lon, lat, transform=ccrs.PlateCarree(),color='black')\n",
    "plt.plot(lon, lat, transform=ccrs.PlateCarree())\n",
    "plt.show()"
   ]
  }
 ],
 "metadata": {
  "kernelspec": {
   "display_name": "Python 3",
   "language": "python",
   "name": "python3"
  },
  "language_info": {
   "codemirror_mode": {
    "name": "ipython",
    "version": 3
   },
   "file_extension": ".py",
   "mimetype": "text/x-python",
   "name": "python",
   "nbconvert_exporter": "python",
   "pygments_lexer": "ipython3",
   "version": "3.6.8"
  }
 },
 "nbformat": 4,
 "nbformat_minor": 2
}
