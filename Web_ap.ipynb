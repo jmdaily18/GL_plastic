{
 "cells": [
  {
   "cell_type": "code",
   "execution_count": 1,
   "metadata": {},
   "outputs": [
    {
     "data": {
      "application/vnd.jupyter.widget-view+json": {
       "model_id": "f9063e57406e49c9951120e0c8fc84a7",
       "version_major": 2,
       "version_minor": 0
      },
      "text/plain": [
       "VBox(children=(FloatSlider(value=4.0, description='$x$'), FloatText(value=0.0, description='$x^2$', disabled=T…"
      ]
     },
     "metadata": {},
     "output_type": "display_data"
    }
   ],
   "source": [
    "import ipywidgets as widgets\n",
    "\n",
    "slider = widgets.FloatSlider(description='$x$', value=4)\n",
    "text = widgets.FloatText(disabled=True, description='$x^2$')\n",
    "\n",
    "def compute(*ignore):\n",
    "    text.value = str(slider.value ** 2)\n",
    "\n",
    "slider.observe(compute, 'value')\n",
    "\n",
    "widgets.VBox([slider, text])"
   ]
  },
  {
   "cell_type": "code",
   "execution_count": 5,
   "metadata": {},
   "outputs": [
    {
     "data": {
      "application/vnd.jupyter.widget-view+json": {
       "model_id": "af9bdf1108be4c5d9b469f43a34c028a",
       "version_major": 2,
       "version_minor": 0
      },
      "text/plain": [
       "Canvas(toolbar=Toolbar(toolitems=[('Home', 'Reset original view', 'home', 'home'), ('Back', 'Back to previous …"
      ]
     },
     "metadata": {},
     "output_type": "display_data"
    }
   ],
   "source": [
    "%matplotlib widget\n",
    "\n",
    "import numpy as np\n",
    "import matplotlib.pyplot as plt\n",
    "#import cartopy.crs as ccrs\n",
    "#import cartopy.feature as cfeature\n",
    "import ipywidgets as widgets\n",
    "#from IPython.display import HTML\n",
    "#import warnings\n",
    "#from bqplot import pyplot as plt\n",
    "\n",
    "#warnings.filterwarnings('ignore')\n",
    "#plt.ioff()\n",
    "\n",
    "glc=np.loadtxt(\"https://raw.githubusercontent.com/jmdaily18/GL_plastic/f007f442b135239aa2a5dd15642aef782b843ace/GLcoast.dat?token=AT3CU5V3YTMQPDPC3R7SJX3ASA24Y\")\n",
    "olon=np.loadtxt(\"https://raw.githubusercontent.com/jmdaily18/GL_plastic_data/main/olon.dat?token=AT3CU5SXZ5WR7RSHZJCO6ZLASFANA\")\n",
    "olat=np.loadtxt(\"https://raw.githubusercontent.com/jmdaily18/GL_plastic_data/main/olat.dat\")\n",
    "\n",
    "#plt.figure(1, title='Lake Ontario')\n",
    "fig = plt.figure()\n",
    "lon=glc[:,0]\n",
    "lat=glc[:,1]\n",
    "extent = [np.amin(olon)-0.25, np.amax(olon)+0.25, np.amin(olat)-0.25, np.amax(olat)+0.25]\n",
    "x_lim = [np.amin(olon)-0.25, np.amax(olon)+0.25]\n",
    "y_lim = [np.amin(olat)-0.25, np.amax(olat)+0.25]\n",
    "central_lon = np.mean(extent[:2])\n",
    "central_lat = np.mean(extent[2:])\n",
    "#ax = plt.axes(projection=ccrs.Mercator()) \n",
    "#ax.plot(lon, lat, transform=ccrs.PlateCarree(),color='black')\n",
    "plt.plot(lon, lat)#, transform=ccrs.PlateCarree())\n",
    "#ax.set_extent(extent)\n",
    "#plt.xlim(x_lim)\n",
    "#plt.ylim(y_lim)\n",
    "plt.xlim([np.amin(olon)-0.25, np.amax(olon)+0.25])\n",
    "plt.ylim([np.amin(olat)-0.25, np.amax(olat)+0.25])\n",
    "\n",
    "plt.show()"
   ]
  },
  {
   "cell_type": "code",
   "execution_count": null,
   "metadata": {},
   "outputs": [],
   "source": []
  }
 ],
 "metadata": {
  "kernelspec": {
   "display_name": "Python 3",
   "language": "python",
   "name": "python3"
  },
  "language_info": {
   "codemirror_mode": {
    "name": "ipython",
    "version": 3
   },
   "file_extension": ".py",
   "mimetype": "text/x-python",
   "name": "python",
   "nbconvert_exporter": "python",
   "pygments_lexer": "ipython3",
   "version": "3.6.8"
  }
 },
 "nbformat": 4,
 "nbformat_minor": 2
}
